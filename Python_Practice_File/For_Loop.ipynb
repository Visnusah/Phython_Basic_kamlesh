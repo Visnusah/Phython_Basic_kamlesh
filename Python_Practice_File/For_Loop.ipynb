{
 "cells": [
  {
   "cell_type": "markdown",
   "id": "2e3f1a59eef10481",
   "metadata": {},
   "source": [
    "## Solve these questions using for loop"
   ]
  },
  {
   "cell_type": "markdown",
   "id": "fd9b9f056a9b3de8",
   "metadata": {},
   "source": [
    "### 1. print \"softwarica\" 10 times "
   ]
  },
  {
   "cell_type": "code",
   "execution_count": 1,
   "id": "6a937a23703dc041",
   "metadata": {
    "ExecuteTime": {
     "end_time": "2024-05-27T10:29:09.911671Z",
     "start_time": "2024-05-27T10:29:09.901243Z"
    }
   },
   "outputs": [
    {
     "name": "stdout",
     "output_type": "stream",
     "text": [
      "Kamlesh_Sah\n",
      "Kamlesh_Sah\n",
      "Kamlesh_Sah\n",
      "Kamlesh_Sah\n",
      "Kamlesh_Sah\n",
      "Kamlesh_Sah\n",
      "Kamlesh_Sah\n",
      "Kamlesh_Sah\n",
      "Kamlesh_Sah\n",
      "Kamlesh_Sah\n"
     ]
    }
   ],
   "source": [
    "for i in range(10):\n",
    "    print(\"Kamlesh_Sah\")\n"
   ]
  },
  {
   "cell_type": "markdown",
   "id": "bcd7a63f184fbad0",
   "metadata": {},
   "source": [
    "## 2. Sum of a list"
   ]
  },
  {
   "cell_type": "code",
   "execution_count": 2,
   "id": "34298a1870e91904",
   "metadata": {
    "ExecuteTime": {
     "end_time": "2024-05-27T10:29:10.268699Z",
     "start_time": "2024-05-27T10:29:10.265397Z"
    }
   },
   "outputs": [
    {
     "name": "stdout",
     "output_type": "stream",
     "text": [
      "15\n"
     ]
    }
   ],
   "source": [
    "lst = [1, 2, 3, 4, 5]\n",
    "total = 0\n",
    "for num in lst:\n",
    "    total += num\n",
    "print(total)"
   ]
  },
  {
   "cell_type": "markdown",
   "id": "a4357291b8c254cf",
   "metadata": {},
   "source": [
    "# 3. print each character using indexing"
   ]
  },
  {
   "cell_type": "code",
   "execution_count": 7,
   "id": "186840843c4142c",
   "metadata": {
    "ExecuteTime": {
     "end_time": "2024-05-27T10:29:10.281069Z",
     "start_time": "2024-05-27T10:29:10.278708Z"
    }
   },
   "outputs": [
    {
     "name": "stdout",
     "output_type": "stream",
     "text": [
      "C\n",
      "o\n",
      "d\n",
      "e\n",
      "r\n",
      "s\n"
     ]
    }
   ],
   "source": [
    "s = \"Coders\"\n",
    "for i in range(len(s)):\n",
    "    print(s[i])"
   ]
  },
  {
   "cell_type": "markdown",
   "id": "fb5b1c495f4ea0fc",
   "metadata": {},
   "source": [
    "## 4. write a program to display integer from a list. given list=[1,'a','c',2,3,4]"
   ]
  },
  {
   "cell_type": "code",
   "execution_count": 8,
   "id": "548db7d5b04865d",
   "metadata": {
    "ExecuteTime": {
     "end_time": "2024-05-27T10:29:10.314776Z",
     "start_time": "2024-05-27T10:29:10.312415Z"
    }
   },
   "outputs": [
    {
     "name": "stdout",
     "output_type": "stream",
     "text": [
      "1\n",
      "2\n",
      "3\n",
      "4\n"
     ]
    }
   ],
   "source": [
    "lst = [1, 'a', 'c', 2, 3, 4]\n",
    "for item in lst:\n",
    "    # if isinstance(item, int):\n",
    "    if type(item) == int:\n",
    "        print(item)"
   ]
  },
  {
   "cell_type": "markdown",
   "id": "f1cb7ae978f83758",
   "metadata": {},
   "source": [
    "## 5. multiplication of each element. given list=[4,5,3,2]"
   ]
  },
  {
   "cell_type": "code",
   "execution_count": 9,
   "id": "3fb83ae6cf9ced59",
   "metadata": {
    "ExecuteTime": {
     "end_time": "2024-05-27T10:29:10.366606Z",
     "start_time": "2024-05-27T10:29:10.363929Z"
    }
   },
   "outputs": [
    {
     "name": "stdout",
     "output_type": "stream",
     "text": [
      "120\n"
     ]
    }
   ],
   "source": [
    "lst = [4, 5, 3, 2]\n",
    "result = 1\n",
    "for num in lst:\n",
    "    result *= num\n",
    "print(result)"
   ]
  },
  {
   "cell_type": "markdown",
   "id": "d638a0566adcec92",
   "metadata": {},
   "source": [
    "## 6. multiplication table of a given number"
   ]
  },
  {
   "cell_type": "code",
   "execution_count": 10,
   "id": "6636b5cd9322aab",
   "metadata": {
    "ExecuteTime": {
     "end_time": "2024-05-27T10:29:15.227794Z",
     "start_time": "2024-05-27T10:29:10.392636Z"
    }
   },
   "outputs": [
    {
     "ename": "ValueError",
     "evalue": "invalid literal for int() with base 10: ''",
     "output_type": "error",
     "traceback": [
      "\u001b[0;31m---------------------------------------------------------------------------\u001b[0m",
      "\u001b[0;31mValueError\u001b[0m                                Traceback (most recent call last)",
      "Cell \u001b[0;32mIn[10], line 1\u001b[0m\n\u001b[0;32m----> 1\u001b[0m num \u001b[38;5;241m=\u001b[39m \u001b[38;5;28;43mint\u001b[39;49m\u001b[43m(\u001b[49m\u001b[38;5;28;43minput\u001b[39;49m\u001b[43m(\u001b[49m\u001b[38;5;124;43m\"\u001b[39;49m\u001b[38;5;124;43mEnter a number: \u001b[39;49m\u001b[38;5;124;43m\"\u001b[39;49m\u001b[43m)\u001b[49m\u001b[43m)\u001b[49m\n\u001b[1;32m      2\u001b[0m \u001b[38;5;28;01mfor\u001b[39;00m i \u001b[38;5;129;01min\u001b[39;00m \u001b[38;5;28mrange\u001b[39m(\u001b[38;5;241m1\u001b[39m, \u001b[38;5;241m11\u001b[39m):\n\u001b[1;32m      3\u001b[0m     \u001b[38;5;28mprint\u001b[39m(\u001b[38;5;124mf\u001b[39m\u001b[38;5;124m\"\u001b[39m\u001b[38;5;132;01m{\u001b[39;00mnum\u001b[38;5;132;01m}\u001b[39;00m\u001b[38;5;124m x \u001b[39m\u001b[38;5;132;01m{\u001b[39;00mi\u001b[38;5;132;01m}\u001b[39;00m\u001b[38;5;124m = \u001b[39m\u001b[38;5;132;01m{\u001b[39;00mnum\u001b[38;5;250m \u001b[39m\u001b[38;5;241m*\u001b[39m\u001b[38;5;250m \u001b[39mi\u001b[38;5;132;01m}\u001b[39;00m\u001b[38;5;124m\"\u001b[39m)\n",
      "\u001b[0;31mValueError\u001b[0m: invalid literal for int() with base 10: ''"
     ]
    }
   ],
   "source": [
    "num = int(input(\"Enter a number: \"))\n",
    "for i in range(1, 11):\n",
    "    print(f\"{num} x {i} = {num * i}\")"
   ]
  },
  {
   "cell_type": "markdown",
   "id": "fcb4e435a437d18e",
   "metadata": {},
   "source": [
    "## 7. reverse a list"
   ]
  },
  {
   "cell_type": "code",
   "execution_count": null,
   "id": "12bcd601f483a6d7",
   "metadata": {
    "ExecuteTime": {
     "end_time": "2024-05-27T10:29:15.233139Z",
     "start_time": "2024-05-27T10:29:15.229679Z"
    }
   },
   "outputs": [
    {
     "name": "stdout",
     "output_type": "stream",
     "text": [
      "[5, 4, 3, 2, 1]\n"
     ]
    }
   ],
   "source": [
    "lst = [1, 2, 3, 4, 5]\n",
    "reversed_lst = []\n",
    "for i in range(len(lst) - 1, -1, -1):\n",
    "    reversed_lst.append(lst[i])\n",
    "print(reversed_lst)"
   ]
  },
  {
   "cell_type": "markdown",
   "id": "438610affb43ecd9",
   "metadata": {},
   "source": [
    "## 8. given list is [1,2,3,4] but expected output in new list [2,3,4,5]"
   ]
  },
  {
   "cell_type": "code",
   "execution_count": null,
   "id": "a05e2b251528fd76",
   "metadata": {
    "ExecuteTime": {
     "end_time": "2024-05-27T10:29:15.261086Z",
     "start_time": "2024-05-27T10:29:15.258667Z"
    }
   },
   "outputs": [
    {
     "name": "stdout",
     "output_type": "stream",
     "text": [
      "[2, 3, 4, 5]\n"
     ]
    }
   ],
   "source": [
    "lst = [1, 2, 3, 4]\n",
    "new_lst = []\n",
    "for num in lst:\n",
    "    new_lst.append(num + 1)\n",
    "print(new_lst)\n"
   ]
  },
  {
   "cell_type": "markdown",
   "id": "f22ddae4688687f2",
   "metadata": {},
   "source": [
    "## 9. Given list is lst=[1,2,3,4] but print 1 and 4 only"
   ]
  },
  {
   "cell_type": "code",
   "execution_count": null,
   "id": "26b4bebf5d3b8026",
   "metadata": {
    "ExecuteTime": {
     "end_time": "2024-05-27T10:29:15.306833Z",
     "start_time": "2024-05-27T10:29:15.304234Z"
    }
   },
   "outputs": [
    {
     "name": "stdout",
     "output_type": "stream",
     "text": [
      "1\n",
      "4\n"
     ]
    }
   ],
   "source": [
    "lst = [1, 2, 3, 4]\n",
    "for i in range(len(lst)):\n",
    "    if i == 0 or i == len(lst) - 1:\n",
    "        print(lst[i])"
   ]
  },
  {
   "cell_type": "markdown",
   "id": "77f1406b25f3129c",
   "metadata": {},
   "source": [
    "## 11. Given list is [1,2,3,4] but expected output is [1,\"a\",2,4]"
   ]
  },
  {
   "cell_type": "code",
   "execution_count": null,
   "id": "a882f5aa03baf49e",
   "metadata": {
    "ExecuteTime": {
     "end_time": "2024-05-27T10:29:15.328782Z",
     "start_time": "2024-05-27T10:29:15.326379Z"
    }
   },
   "outputs": [],
   "source": [
    "given_list = [1, 2, 3, 4]\n",
    "# modified_list = []\n",
    "# \n",
    "# # Iterate through the given list\n",
    "# for element in given_list:\n",
    "#     # Check if the element is 3\n",
    "#     if element == 2:\n",
    "#         modified_list.append(\"a\")\n",
    "#     else:\n",
    "#         modified_list.append(element)\n",
    "# \n",
    "# print(modified_list)\n"
   ]
  },
  {
   "cell_type": "markdown",
   "id": "f661b2870919d0b7",
   "metadata": {},
   "source": [
    "## 12. Given list is [1,2,3,4,5] separate the elements into odd and even categories."
   ]
  },
  {
   "cell_type": "code",
   "execution_count": null,
   "id": "af1c5d8014d6dc1d",
   "metadata": {
    "ExecuteTime": {
     "end_time": "2024-05-27T10:29:15.387658Z",
     "start_time": "2024-05-27T10:29:15.383942Z"
    }
   },
   "outputs": [
    {
     "name": "stdout",
     "output_type": "stream",
     "text": [
      "Evens: [2, 4]\n",
      "Odds: [1, 3, 5]\n"
     ]
    }
   ],
   "source": [
    "lst = [1, 2, 3, 4, 5]\n",
    "evens = []\n",
    "odds = []\n",
    "for num in lst:\n",
    "    if num % 2 == 0:\n",
    "        evens.append(num)\n",
    "    else:\n",
    "        odds.append(num)\n",
    "print(\"Evens:\", evens)\n",
    "print(\"Odds:\", odds)\n"
   ]
  },
  {
   "cell_type": "markdown",
   "id": "efa4a76846cef7df",
   "metadata": {},
   "source": [
    "## 13. Given list is [1,2,3,\"d\",4,5,\"a\"] separate the elements based on their data types"
   ]
  },
  {
   "cell_type": "code",
   "execution_count": null,
   "id": "f16f98dc6b610eb0",
   "metadata": {
    "ExecuteTime": {
     "end_time": "2024-05-27T10:29:15.419080Z",
     "start_time": "2024-05-27T10:29:15.417515Z"
    }
   },
   "outputs": [],
   "source": []
  },
  {
   "cell_type": "markdown",
   "id": "c1e11cbf3cf5ee5a",
   "metadata": {},
   "source": [
    "## 14. Given list is [1,2,3,4,\"a\",\"b\"] append each elements datatypes to separate lists."
   ]
  },
  {
   "cell_type": "code",
   "execution_count": null,
   "id": "c21e78d6a453c4eb",
   "metadata": {
    "ExecuteTime": {
     "end_time": "2024-05-27T10:29:15.464562Z",
     "start_time": "2024-05-27T10:29:15.461172Z"
    }
   },
   "outputs": [
    {
     "name": "stdout",
     "output_type": "stream",
     "text": [
      "Integer elements: [1, 2, 3, 4]\n",
      "String elements: ['a', 'b']\n"
     ]
    }
   ],
   "source": [
    "# 14. Given list is [1,2,3,4,\"a\",\"b\"] append each element's data type to separate lists\n",
    "lst = [1, 2, 3, 4, \"a\", \"b\"]\n",
    "int_types = []\n",
    "str_types = []\n",
    "\n",
    "for item in lst:\n",
    "    if isinstance(item, int):\n",
    "        int_types.append(item)\n",
    "    elif isinstance(item, str):\n",
    "        str_types.append(item)\n",
    "\n",
    "print(\"Integer elements:\", int_types)\n",
    "print(\"String elements:\", str_types)\n"
   ]
  },
  {
   "cell_type": "markdown",
   "id": "697c4b8fc244d4d9",
   "metadata": {},
   "source": [
    "## 15. Python program that accepts a string and calculate the number of digits and letters and space"
   ]
  },
  {
   "cell_type": "code",
   "execution_count": null,
   "id": "3977f0cef16e032",
   "metadata": {
    "ExecuteTime": {
     "end_time": "2024-05-27T10:29:15.498977Z",
     "start_time": "2024-05-27T10:29:15.491057Z"
    }
   },
   "outputs": [
    {
     "name": "stdout",
     "output_type": "stream",
     "text": [
      "Digits: 0\n",
      "Letters: 18\n",
      "Spaces: 4\n"
     ]
    }
   ],
   "source": [
    "# 15. Python program that accepts a string and calculate the number of digits and letters and space\n",
    "s = \"My name is kamelsh sah\"\n",
    "\n",
    "digits = 0\n",
    "letters = 0\n",
    "spaces = 0\n",
    "\n",
    "for char in s:\n",
    "    if char.isdigit():\n",
    "        digits += 1\n",
    "    elif char.isalpha():\n",
    "        letters += 1\n",
    "    elif char.isspace():\n",
    "        spaces += 1\n",
    "\n",
    "print(\"Digits:\", digits)\n",
    "print(\"Letters:\", letters)\n",
    "print(\"Spaces:\", spaces)\n"
   ]
  },
  {
   "cell_type": "markdown",
   "id": "5a491fb9de4b069d",
   "metadata": {},
   "source": [
    "## 16. Python program to check the validity of username and password input by users"
   ]
  },
  {
   "cell_type": "code",
   "execution_count": null,
   "id": "addbc9adb7a4e9e6",
   "metadata": {
    "ExecuteTime": {
     "end_time": "2024-05-27T10:29:28.586175Z",
     "start_time": "2024-05-27T10:29:15.531425Z"
    }
   },
   "outputs": [
    {
     "name": "stdout",
     "output_type": "stream",
     "text": [
      "Username and Password are valid\n"
     ]
    }
   ],
   "source": [
    "#input from user\n",
    "username = input(\"Enter username: \")\n",
    "password = input(\"Enter password: \")\n",
    "\n",
    "# Criteria for validity\n",
    "valid_username = False\n",
    "valid_password = False\n",
    "\n",
    "# Check validity of username\n",
    "if username.isalnum() and len(username) >= 5:\n",
    "    valid_username = True\n",
    "\n",
    "# Check validity of password\n",
    "if len(password) >= 8:\n",
    "    has_digit = False\n",
    "    for char in password:\n",
    "        if char.isdigit():\n",
    "            has_digit = True\n",
    "            break\n",
    "    if has_digit:\n",
    "        valid_password = True\n",
    "\n",
    "if valid_username and valid_password:\n",
    "    print(\"Username and Password are valid\")\n",
    "else:\n",
    "    if not valid_username:\n",
    "        print(\"Invalid Username: Username must be alphanumeric and at least 5 characters long.\")\n",
    "    if not valid_password:\n",
    "        print(\"Invalid Password: Password must be at least 8 characters long and contain at least one digit.\")\n"
   ]
  },
  {
   "cell_type": "markdown",
   "id": "e6341f984db89495",
   "metadata": {},
   "source": [
    "## 17. program to print the given number is odd or even"
   ]
  },
  {
   "cell_type": "code",
   "execution_count": null,
   "id": "5bd7821ed387ff1a",
   "metadata": {
    "ExecuteTime": {
     "end_time": "2024-05-27T10:29:28.591012Z",
     "start_time": "2024-05-27T10:29:28.587944Z"
    }
   },
   "outputs": [
    {
     "name": "stdout",
     "output_type": "stream",
     "text": [
      "The number 19 is odd\n"
     ]
    }
   ],
   "source": [
    "num = 19\n",
    "if num > 0:\n",
    "    if num % 2 == 0:\n",
    "        print(f\"The number {num} is even\")\n",
    "    else:\n",
    "        print(f\"The number {num} is odd\")\n",
    "else:\n",
    "    print(f\"{num} is a negative number.\")"
   ]
  },
  {
   "cell_type": "markdown",
   "id": "a79b62c307372f7f",
   "metadata": {},
   "source": [
    "## 18. factorial of a given number"
   ]
  },
  {
   "cell_type": "code",
   "execution_count": null,
   "id": "847d60ad1559ce9b",
   "metadata": {
    "ExecuteTime": {
     "end_time": "2024-05-27T10:29:28.594793Z",
     "start_time": "2024-05-27T10:29:28.591905Z"
    }
   },
   "outputs": [
    {
     "name": "stdout",
     "output_type": "stream",
     "text": [
      "120\n"
     ]
    }
   ],
   "source": [
    "num = 5\n",
    "factorial = 1\n",
    "for i in range(1, num + 1):\n",
    "    factorial *= i\n",
    "print(factorial)"
   ]
  },
  {
   "cell_type": "markdown",
   "id": "f8432e8d404687fd",
   "metadata": {},
   "source": [
    "## 19. Print multiplication table of  1,2,3,4,5,6,7,8 "
   ]
  },
  {
   "cell_type": "code",
   "execution_count": null,
   "id": "4c29899d7695f870",
   "metadata": {
    "ExecuteTime": {
     "end_time": "2024-05-27T10:29:28.604860Z",
     "start_time": "2024-05-27T10:29:28.602476Z"
    }
   },
   "outputs": [
    {
     "name": "stdout",
     "output_type": "stream",
     "text": [
      "1 x 1 = 1\n",
      "1 x 2 = 2\n",
      "1 x 3 = 3\n",
      "1 x 4 = 4\n",
      "1 x 5 = 5\n",
      "1 x 6 = 6\n",
      "1 x 7 = 7\n",
      "1 x 8 = 8\n",
      "1 x 9 = 9\n",
      "1 x 10 = 10\n",
      "\n",
      "2 x 1 = 2\n",
      "2 x 2 = 4\n",
      "2 x 3 = 6\n",
      "2 x 4 = 8\n",
      "2 x 5 = 10\n",
      "2 x 6 = 12\n",
      "2 x 7 = 14\n",
      "2 x 8 = 16\n",
      "2 x 9 = 18\n",
      "2 x 10 = 20\n",
      "\n",
      "3 x 1 = 3\n",
      "3 x 2 = 6\n",
      "3 x 3 = 9\n",
      "3 x 4 = 12\n",
      "3 x 5 = 15\n",
      "3 x 6 = 18\n",
      "3 x 7 = 21\n",
      "3 x 8 = 24\n",
      "3 x 9 = 27\n",
      "3 x 10 = 30\n",
      "\n",
      "4 x 1 = 4\n",
      "4 x 2 = 8\n",
      "4 x 3 = 12\n",
      "4 x 4 = 16\n",
      "4 x 5 = 20\n",
      "4 x 6 = 24\n",
      "4 x 7 = 28\n",
      "4 x 8 = 32\n",
      "4 x 9 = 36\n",
      "4 x 10 = 40\n",
      "\n",
      "5 x 1 = 5\n",
      "5 x 2 = 10\n",
      "5 x 3 = 15\n",
      "5 x 4 = 20\n",
      "5 x 5 = 25\n",
      "5 x 6 = 30\n",
      "5 x 7 = 35\n",
      "5 x 8 = 40\n",
      "5 x 9 = 45\n",
      "5 x 10 = 50\n",
      "\n",
      "6 x 1 = 6\n",
      "6 x 2 = 12\n",
      "6 x 3 = 18\n",
      "6 x 4 = 24\n",
      "6 x 5 = 30\n",
      "6 x 6 = 36\n",
      "6 x 7 = 42\n",
      "6 x 8 = 48\n",
      "6 x 9 = 54\n",
      "6 x 10 = 60\n",
      "\n",
      "7 x 1 = 7\n",
      "7 x 2 = 14\n",
      "7 x 3 = 21\n",
      "7 x 4 = 28\n",
      "7 x 5 = 35\n",
      "7 x 6 = 42\n",
      "7 x 7 = 49\n",
      "7 x 8 = 56\n",
      "7 x 9 = 63\n",
      "7 x 10 = 70\n",
      "\n",
      "8 x 1 = 8\n",
      "8 x 2 = 16\n",
      "8 x 3 = 24\n",
      "8 x 4 = 32\n",
      "8 x 5 = 40\n",
      "8 x 6 = 48\n",
      "8 x 7 = 56\n",
      "8 x 8 = 64\n",
      "8 x 9 = 72\n",
      "8 x 10 = 80\n",
      "\n"
     ]
    }
   ],
   "source": [
    "for i in range(1, 9):\n",
    "    for j in range(1, 11):\n",
    "        print(f\"{i} x {j} = {i * j}\")\n",
    "    print()"
   ]
  },
  {
   "cell_type": "markdown",
   "id": "57ee462241e5e3db",
   "metadata": {},
   "source": [
    "## 20. Given list is lst=[1,2,3,4] but print 1 and 2 only"
   ]
  },
  {
   "cell_type": "code",
   "execution_count": null,
   "id": "83531698eb84f750",
   "metadata": {
    "ExecuteTime": {
     "end_time": "2024-05-27T10:29:28.639214Z",
     "start_time": "2024-05-27T10:29:28.636150Z"
    }
   },
   "outputs": [
    {
     "name": "stdout",
     "output_type": "stream",
     "text": [
      "1\n",
      "2\n"
     ]
    }
   ],
   "source": [
    "lst = [1, 2, 3, 4]\n",
    "for i in range(len(lst)):\n",
    "    if i == 0 or i == 1:\n",
    "        print(lst[i])"
   ]
  },
  {
   "cell_type": "markdown",
   "id": "b481fbcff88acb51",
   "metadata": {},
   "source": [
    "## 21. Python program to calculate the sum of all the odd numbers within the given range."
   ]
  },
  {
   "cell_type": "code",
   "execution_count": null,
   "id": "cc3d183f323888df",
   "metadata": {
    "ExecuteTime": {
     "end_time": "2024-05-27T10:29:28.681508Z",
     "start_time": "2024-05-27T10:29:28.678960Z"
    }
   },
   "outputs": [
    {
     "name": "stdout",
     "output_type": "stream",
     "text": [
      "25\n"
     ]
    }
   ],
   "source": [
    "start = 1\n",
    "end = 10\n",
    "odd_sum = 0\n",
    "for num in range(start, end + 1):\n",
    "    if num % 2 != 0:\n",
    "        odd_sum += num\n",
    "print(odd_sum)\n"
   ]
  },
  {
   "cell_type": "markdown",
   "id": "8d418146a67a7c7d",
   "metadata": {},
   "source": [
    "## 22. Python program to calculate the sum of all the even numbers within the given range."
   ]
  },
  {
   "cell_type": "code",
   "execution_count": null,
   "id": "cd23aaf8fb2de256",
   "metadata": {
    "ExecuteTime": {
     "end_time": "2024-05-27T10:29:28.758937Z",
     "start_time": "2024-05-27T10:29:28.754968Z"
    }
   },
   "outputs": [
    {
     "name": "stdout",
     "output_type": "stream",
     "text": [
      "30\n"
     ]
    }
   ],
   "source": [
    "start = 1\n",
    "end = 10\n",
    "even_sum = 0\n",
    "for num in range(start, end + 1):\n",
    "    if num % 2 == 0:\n",
    "        even_sum += num\n",
    "print(even_sum)"
   ]
  },
  {
   "cell_type": "markdown",
   "id": "a290007f4b7bd4c9",
   "metadata": {},
   "source": [
    "## 23. Python program to count the space of a given string\n"
   ]
  },
  {
   "cell_type": "code",
   "execution_count": null,
   "id": "6f554cf009411ed3",
   "metadata": {
    "ExecuteTime": {
     "end_time": "2024-05-27T10:29:28.800215Z",
     "start_time": "2024-05-27T10:29:28.797726Z"
    }
   },
   "outputs": [
    {
     "name": "stdout",
     "output_type": "stream",
     "text": [
      "2\n"
     ]
    }
   ],
   "source": [
    "s = \"Python is fun\"\n",
    "space_count = 0\n",
    "for char in s:\n",
    "    if char == \" \":\n",
    "        space_count += 1\n",
    "print(space_count)"
   ]
  },
  {
   "cell_type": "markdown",
   "id": "25707c8ebf7a2dc3",
   "metadata": {},
   "source": [
    "## 24. given list is [1,2,3,4] but expected output is [1,8,27,64]"
   ]
  },
  {
   "cell_type": "code",
   "execution_count": null,
   "id": "e41aaf4d284159e6",
   "metadata": {
    "ExecuteTime": {
     "end_time": "2024-05-27T10:29:28.838442Z",
     "start_time": "2024-05-27T10:29:28.835776Z"
    }
   },
   "outputs": [
    {
     "name": "stdout",
     "output_type": "stream",
     "text": [
      "[1, 8, 27, 64]\n"
     ]
    }
   ],
   "source": [
    "lst = [1, 2, 3, 4]\n",
    "cubed_lst = []\n",
    "for num in lst:\n",
    "    cubed_lst.append(num ** 3)\n",
    "print(cubed_lst)"
   ]
  },
  {
   "cell_type": "markdown",
   "id": "2bdf9f27cae0a11b",
   "metadata": {},
   "source": [
    "## 25. reverse of a string a=\"programming\". "
   ]
  },
  {
   "cell_type": "code",
   "execution_count": null,
   "id": "14435366e681e3fa",
   "metadata": {
    "ExecuteTime": {
     "end_time": "2024-05-27T10:29:28.868315Z",
     "start_time": "2024-05-27T10:29:28.865772Z"
    }
   },
   "outputs": [
    {
     "name": "stdout",
     "output_type": "stream",
     "text": [
      "gnimmargorp\n"
     ]
    }
   ],
   "source": [
    "s = \"programming\"\n",
    "reversed_s = \"\"\n",
    "for i in range(len(s) - 1, -1, -1):\n",
    "    reversed_s += s[i]\n",
    "print(reversed_s)"
   ]
  },
  {
   "cell_type": "markdown",
   "id": "51b0562c42fcab9a",
   "metadata": {},
   "source": [
    "## 26. Place a break statement in the for loop so that it prints from 0 to 7 only (including 7). Given range(50)"
   ]
  },
  {
   "cell_type": "code",
   "execution_count": null,
   "id": "af6753e2666e87f6",
   "metadata": {
    "ExecuteTime": {
     "end_time": "2024-05-27T10:29:28.917648Z",
     "start_time": "2024-05-27T10:29:28.915340Z"
    }
   },
   "outputs": [
    {
     "name": "stdout",
     "output_type": "stream",
     "text": [
      "0\n",
      "1\n",
      "2\n",
      "3\n",
      "4\n",
      "5\n",
      "6\n",
      "7\n"
     ]
    }
   ],
   "source": [
    "for i in range(50):\n",
    "    if i > 7:\n",
    "        break\n",
    "    print(i)"
   ]
  },
  {
   "cell_type": "markdown",
   "id": "43e62a3f53ed2239",
   "metadata": {},
   "source": [
    "## 27. Write a for loop that iterates through a string and prints every character."
   ]
  },
  {
   "cell_type": "code",
   "execution_count": 11,
   "id": "7c72536ebf242223",
   "metadata": {
    "ExecuteTime": {
     "end_time": "2024-05-27T10:29:28.933418Z",
     "start_time": "2024-05-27T10:29:28.931008Z"
    }
   },
   "outputs": [
    {
     "name": "stdout",
     "output_type": "stream",
     "text": [
      "c\n",
      "o\n",
      "d\n",
      "e\n"
     ]
    }
   ],
   "source": [
    "s = \"code\"\n",
    "for char in s:\n",
    "    print(char)"
   ]
  },
  {
   "cell_type": "markdown",
   "id": "4e64e16ad6453f61",
   "metadata": {},
   "source": [
    "## 28. Write a for loop which print \"Hello!, \" plus each name in the list. i.e.: \"Hello!, ram\". Hint a=[\"ram\",\"shyam\",1,2] expected output:  Hello!ram Hello!shyam"
   ]
  },
  {
   "cell_type": "markdown",
   "id": "d1c7de6fae5a7f41",
   "metadata": {},
   "source": []
  },
  {
   "cell_type": "code",
   "execution_count": 12,
   "id": "80b808615d4abc5b",
   "metadata": {
    "ExecuteTime": {
     "end_time": "2024-05-27T10:29:28.959694Z",
     "start_time": "2024-05-27T10:29:28.956369Z"
    }
   },
   "outputs": [
    {
     "name": "stdout",
     "output_type": "stream",
     "text": [
      "Hello!, ram\n",
      "Hello!, shyam\n",
      "Hello!, 1\n",
      "Hello!, 2\n"
     ]
    }
   ],
   "source": [
    "a = [\"ram\", \"shyam\", 1, 2]\n",
    "for name in a:\n",
    "    print(f\"Hello!, {name}\")"
   ]
  },
  {
   "cell_type": "markdown",
   "id": "8fa0c4975087c6bf",
   "metadata": {},
   "source": [
    "## 29. Using a for loop and .append() method append each item with a Dr. prefix to the lst. Hint a=[\"ram\",\"shyam\"] expected output:  ['Dr.ram', 'Dr.shyam','Dr.1','Dr.2']"
   ]
  },
  {
   "cell_type": "code",
   "execution_count": 13,
   "id": "323bf60550f96a40",
   "metadata": {
    "ExecuteTime": {
     "end_time": "2024-05-27T10:29:29.026434Z",
     "start_time": "2024-05-27T10:29:29.024194Z"
    }
   },
   "outputs": [
    {
     "name": "stdout",
     "output_type": "stream",
     "text": [
      "['Dr.ram', 'Dr.shyam', 'Dr.1', 'Dr.2']\n"
     ]
    }
   ],
   "source": [
    "a = [\"ram\", \"shyam\", 1, 2]\n",
    "dr_lst = []\n",
    "for name in a:\n",
    "    dr_lst.append(f\"Dr.{name}\")\n",
    "print(dr_lst)"
   ]
  },
  {
   "cell_type": "markdown",
   "id": "57c43845cdd73bfe",
   "metadata": {},
   "source": [
    "## 30. Write a for loop which appends the square of each number to the new list."
   ]
  },
  {
   "cell_type": "code",
   "execution_count": 14,
   "id": "72c3164712bdb975",
   "metadata": {
    "ExecuteTime": {
     "end_time": "2024-05-27T10:29:29.063002Z",
     "start_time": "2024-05-27T10:29:29.060299Z"
    }
   },
   "outputs": [
    {
     "name": "stdout",
     "output_type": "stream",
     "text": [
      "[1, 4, 9, 16]\n"
     ]
    }
   ],
   "source": [
    "lst = [1, 2, 3, 4]\n",
    "squared_lst = []\n",
    "for num in lst:\n",
    "    squared_lst.append(num ** 2)\n",
    "print(squared_lst)"
   ]
  },
  {
   "cell_type": "markdown",
   "id": "f45690a9cc4e0f1c",
   "metadata": {},
   "source": [
    "## 31. Write a for loop using an if statement, that appends each number to the new list if it's positive. given lst1=[111, 32, -9, -45, -17, 9, 85, -10]"
   ]
  },
  {
   "cell_type": "code",
   "execution_count": 15,
   "id": "bf66b9244359bc23",
   "metadata": {
    "ExecuteTime": {
     "end_time": "2024-05-27T10:29:29.085535Z",
     "start_time": "2024-05-27T10:29:29.082674Z"
    }
   },
   "outputs": [
    {
     "name": "stdout",
     "output_type": "stream",
     "text": [
      "[111, 32, 9, 85]\n"
     ]
    }
   ],
   "source": [
    "lst1 = [111, 32, -9, -45, -17, 9, 85, -10]\n",
    "positive_lst = []\n",
    "for num in lst1:\n",
    "    if num > 0:\n",
    "        positive_lst.append(num)\n",
    "print(positive_lst)"
   ]
  },
  {
   "cell_type": "markdown",
   "id": "60e250a3ae9d7965",
   "metadata": {},
   "source": [
    "## 32. Write a Python program that prints all the numbers from 0 to 6 except 3 and 6. given list=[0,1,2,3,4,5,6]"
   ]
  },
  {
   "cell_type": "code",
   "execution_count": 16,
   "id": "f6b082e9627c8e56",
   "metadata": {
    "ExecuteTime": {
     "end_time": "2024-05-27T10:29:29.138939Z",
     "start_time": "2024-05-27T10:29:29.136665Z"
    }
   },
   "outputs": [
    {
     "name": "stdout",
     "output_type": "stream",
     "text": [
      "0\n",
      "1\n",
      "2\n",
      "4\n",
      "5\n"
     ]
    }
   ],
   "source": [
    "for num in range(7):\n",
    "    if num == 3 or num == 6:\n",
    "        continue\n",
    "    print(num)"
   ]
  },
  {
   "cell_type": "markdown",
   "id": "6b53d6d31912e941",
   "metadata": {},
   "source": [
    "## 33. Write a for loop which appends the type of each element in the first list to the second list."
   ]
  },
  {
   "cell_type": "code",
   "execution_count": 17,
   "id": "a6f0b2d7fa084bf2",
   "metadata": {
    "ExecuteTime": {
     "end_time": "2024-05-27T10:29:29.159716Z",
     "start_time": "2024-05-27T10:29:29.157245Z"
    }
   },
   "outputs": [
    {
     "name": "stdout",
     "output_type": "stream",
     "text": [
      "First list: [1, 'a', 3.14, True, None]\n",
      "Second list with types: ['int', 'str', 'float', 'bool', 'NoneType']\n"
     ]
    }
   ],
   "source": [
    "first_list = [1, 'a', 3.14, True, None]\n",
    "second_list = []\n",
    "\n",
    "for element in first_list:\n",
    "    second_list.append(type(element).__name__)\n",
    "\n",
    "print(\"First list:\", first_list)\n",
    "print(\"Second list with types:\", second_list)\n"
   ]
  },
  {
   "cell_type": "markdown",
   "id": "9201e5c8fdbdd9aa",
   "metadata": {},
   "source": [
    "## 34. Use else block to display a message “Done” after successful execution of for loop."
   ]
  },
  {
   "cell_type": "code",
   "execution_count": 18,
   "id": "d6a4e1e84c01014f",
   "metadata": {
    "ExecuteTime": {
     "end_time": "2024-05-27T10:29:29.226892Z",
     "start_time": "2024-05-27T10:29:29.223917Z"
    }
   },
   "outputs": [
    {
     "name": "stdout",
     "output_type": "stream",
     "text": [
      "0\n",
      "1\n",
      "2\n",
      "3\n",
      "4\n",
      "Done\n"
     ]
    }
   ],
   "source": [
    "for i in range(5):\n",
    "    print(i)\n",
    "else:\n",
    "    print(\"Done\")\n"
   ]
  },
  {
   "cell_type": "markdown",
   "id": "d90e85f53fccf72e",
   "metadata": {},
   "source": [
    "## 35. Write a for loop statement to print the following series: \n",
    "\n",
    "105 98 -------7"
   ]
  },
  {
   "cell_type": "code",
   "execution_count": 19,
   "id": "f27b55e0547ab76e",
   "metadata": {
    "ExecuteTime": {
     "end_time": "2024-05-27T10:29:29.244247Z",
     "start_time": "2024-05-27T10:29:29.242137Z"
    }
   },
   "outputs": [
    {
     "name": "stdout",
     "output_type": "stream",
     "text": [
      "105\n",
      "98\n",
      "91\n",
      "84\n",
      "77\n",
      "70\n",
      "63\n",
      "56\n",
      "49\n",
      "42\n",
      "35\n",
      "28\n",
      "21\n",
      "14\n",
      "7\n"
     ]
    }
   ],
   "source": [
    "for num in range(105, 6, -7):\n",
    "    print(num)\n"
   ]
  },
  {
   "cell_type": "markdown",
   "id": "757c8ab336539385",
   "metadata": {},
   "source": [
    "## 36. removal bad characters from the given string. Given bad_chars = [';', ':', '!', \"*\"], string = \"py;th* o:n ! ;py * t*h:o !n\".  Expected output = pythonpython"
   ]
  },
  {
   "cell_type": "code",
   "execution_count": 20,
   "id": "14b86eec9dac86f1",
   "metadata": {
    "ExecuteTime": {
     "end_time": "2024-05-27T10:29:29.259377Z",
     "start_time": "2024-05-27T10:29:29.257145Z"
    }
   },
   "outputs": [
    {
     "name": "stdout",
     "output_type": "stream",
     "text": [
      "pythonpythoIn\n"
     ]
    }
   ],
   "source": [
    "bad_chars = [';', ':', '!', '*', ' ']\n",
    "string = \"py;th* o:n ! ;py * t*h:o In\"\n",
    "\n",
    "# Removing bad characters from the string\n",
    "for char in bad_chars:\n",
    "    string = string.replace(char, \"\")\n",
    "\n",
    "print(string)"
   ]
  },
  {
   "cell_type": "markdown",
   "id": "e83cb4fc1edfb28f",
   "metadata": {},
   "source": [
    "## 37. Python program to count the number of even and odd numbers from a series of numbers.  "
   ]
  },
  {
   "cell_type": "code",
   "execution_count": 21,
   "id": "d65441a3df57baf6",
   "metadata": {
    "ExecuteTime": {
     "end_time": "2024-05-27T10:29:29.313461Z",
     "start_time": "2024-05-27T10:29:29.310697Z"
    }
   },
   "outputs": [
    {
     "name": "stdout",
     "output_type": "stream",
     "text": [
      "Number of even numbers: 4\n",
      "Number of odd numbers: 5\n"
     ]
    }
   ],
   "source": [
    "# Initialize counters for even and odd numbers\n",
    "even_count = 0\n",
    "odd_count = 0\n",
    "# Example series of numbers\n",
    "numbers = [1, 2, 3, 4, 5, 6, 7, 8, 9]\n",
    "\n",
    "# Loop through each number in the series\n",
    "for number in numbers:\n",
    "    if number % 2 == 0:\n",
    "        even_count += 1  # Increment even counter\n",
    "    else:\n",
    "        odd_count += 1  # Increment odd counter\n",
    "\n",
    "# Display the results\n",
    "print(\"Number of even numbers:\", even_count)\n",
    "print(\"Number of odd numbers:\", odd_count)\n"
   ]
  },
  {
   "cell_type": "markdown",
   "id": "a3a6822e68722262",
   "metadata": {},
   "source": [
    "## 38. Write a python program to display all the prime numbers within a given range."
   ]
  },
  {
   "cell_type": "code",
   "execution_count": 22,
   "id": "4da184d4ad1108da",
   "metadata": {
    "ExecuteTime": {
     "end_time": "2024-05-27T10:29:29.338105Z",
     "start_time": "2024-05-27T10:29:29.335465Z"
    }
   },
   "outputs": [
    {
     "name": "stdout",
     "output_type": "stream",
     "text": [
      "11\n",
      "13\n",
      "17\n",
      "19\n",
      "23\n",
      "29\n",
      "31\n",
      "37\n",
      "41\n",
      "43\n",
      "47\n"
     ]
    }
   ],
   "source": [
    "start = 10\n",
    "end = 50\n",
    "\n",
    "for num in range(start, end + 1):\n",
    "    if num > 1:\n",
    "        is_prime = True\n",
    "        for i in range(2, int(num**0.5) + 1):\n",
    "            if num % i == 0:\n",
    "                is_prime = False\n",
    "                break\n",
    "        if is_prime:\n",
    "            print(num)\n"
   ]
  },
  {
   "cell_type": "markdown",
   "id": "a5d97a8ae3e75f15",
   "metadata": {},
   "source": [
    "## 39. given number is prime or not"
   ]
  },
  {
   "cell_type": "code",
   "execution_count": 23,
   "id": "89cb2bc63954eaa3",
   "metadata": {
    "ExecuteTime": {
     "end_time": "2024-05-27T10:29:31.589343Z",
     "start_time": "2024-05-27T10:29:29.375346Z"
    }
   },
   "outputs": [
    {
     "ename": "ValueError",
     "evalue": "invalid literal for int() with base 10: ''",
     "output_type": "error",
     "traceback": [
      "\u001b[0;31m---------------------------------------------------------------------------\u001b[0m",
      "\u001b[0;31mValueError\u001b[0m                                Traceback (most recent call last)",
      "Cell \u001b[0;32mIn[23], line 1\u001b[0m\n\u001b[0;32m----> 1\u001b[0m num \u001b[38;5;241m=\u001b[39m \u001b[38;5;28;43mint\u001b[39;49m\u001b[43m(\u001b[49m\u001b[38;5;28;43minput\u001b[39;49m\u001b[43m(\u001b[49m\u001b[38;5;124;43m\"\u001b[39;49m\u001b[38;5;124;43mEnter a number: \u001b[39;49m\u001b[38;5;124;43m\"\u001b[39;49m\u001b[43m)\u001b[49m\u001b[43m)\u001b[49m\n\u001b[1;32m      2\u001b[0m \u001b[38;5;28;01mfor\u001b[39;00m num \u001b[38;5;129;01min\u001b[39;00m \u001b[38;5;28mrange\u001b[39m(\u001b[38;5;241m1\u001b[39m, num \u001b[38;5;241m+\u001b[39m \u001b[38;5;241m1\u001b[39m):\n\u001b[1;32m      3\u001b[0m     \u001b[38;5;28;01mif\u001b[39;00m num \u001b[38;5;241m%\u001b[39m num \u001b[38;5;241m==\u001b[39m \u001b[38;5;241m0\u001b[39m \u001b[38;5;129;01mand\u001b[39;00m num \u001b[38;5;241m%\u001b[39m \u001b[38;5;241m1\u001b[39m \u001b[38;5;241m==\u001b[39m \u001b[38;5;241m0\u001b[39m:\n",
      "\u001b[0;31mValueError\u001b[0m: invalid literal for int() with base 10: ''"
     ]
    }
   ],
   "source": [
    "num = int(input(\"Enter a number: \"))\n",
    "for num in range(1, num + 1):\n",
    "    if num % num == 0 and num % 1 == 0:\n",
    "        print(num)"
   ]
  },
  {
   "cell_type": "markdown",
   "id": "5554850f3eebb4e7",
   "metadata": {},
   "source": [
    "## 40. program to check given number is palindrome or not"
   ]
  },
  {
   "cell_type": "code",
   "execution_count": null,
   "id": "1a70e4945a4d02bf",
   "metadata": {
    "ExecuteTime": {
     "end_time": "2024-05-27T10:29:36.585056Z",
     "start_time": "2024-05-27T10:29:31.590813Z"
    }
   },
   "outputs": [
    {
     "name": "stdout",
     "output_type": "stream",
     "text": [
      "12 is not a palindrome.\n",
      "10 is not a palindrome.\n"
     ]
    }
   ],
   "source": [
    "# Get the number from the user\n",
    "number = input(\"Enter a number: \")\n",
    "\n",
    "# Initialize a variable to store the reverse of the number\n",
    "reverse_number = ''\n",
    "\n",
    "# Loop through each digit in the number string in reverse order\n",
    "for digit in number[::-1]:\n",
    "    reverse_number += digit\n",
    "\n",
    "# Check if the reversed number is the same as the original\n",
    "if number == reverse_number:\n",
    "    print(number, \"is a palindrome.\")\n",
    "else:\n",
    "    print(number, \"is not a palindrome.\")\n",
    "# Get the number from the user\n",
    "number = input(\"Enter a number: \")\n",
    "\n",
    "# Initialize a variable to store the reverse of the number\n",
    "reverse_number = ''\n",
    "\n",
    "# Loop through each digit in the number string in reverse order\n",
    "for digit in number[::-1]:\n",
    "    reverse_number += digit\n",
    "\n",
    "# Check if the reversed number is the same as the original\n",
    "if number == reverse_number:\n",
    "    print(number, \"is a palindrome.\")\n",
    "else:\n",
    "    print(number, \"is not a palindrome.\")\n"
   ]
  },
  {
   "cell_type": "markdown",
   "id": "827423de34555a4d",
   "metadata": {},
   "source": [
    "## 41. program to check given number is armstrong or not"
   ]
  },
  {
   "cell_type": "code",
   "execution_count": null,
   "id": "add79a3953cfdc18",
   "metadata": {
    "ExecuteTime": {
     "end_time": "2024-05-27T10:29:38.187351Z",
     "start_time": "2024-05-27T10:29:36.586690Z"
    }
   },
   "outputs": [
    {
     "name": "stdout",
     "output_type": "stream",
     "text": [
      "12 is not an Armstrong number.\n"
     ]
    }
   ],
   "source": [
    "# Ask the user for a number\n",
    "number = int(input(\"Enter a number: \"))\n",
    "\n",
    "# Convert the number to a string to easily iterate over its digits\n",
    "num_str = str(number)\n",
    "num_length = len(num_str)\n",
    "sum_of_powers = 0\n",
    "\n",
    "# Iterate over each digit and raise it to the power of the number's length\n",
    "for digit in num_str:\n",
    "    sum_of_powers += int(digit) ** num_length\n",
    "\n",
    "# Compare the sum of powers with the original number\n",
    "if sum_of_powers == number:\n",
    "    print(f\"{number} is an Armstrong number.\")\n",
    "else:\n",
    "    print(f\"{number} is not an Armstrong number.\")\n"
   ]
  },
  {
   "cell_type": "markdown",
   "id": "2c896c0cd87ac341",
   "metadata": {},
   "source": [
    "## 42.  python program to check a number is perfect number"
   ]
  },
  {
   "cell_type": "code",
   "execution_count": null,
   "id": "ff6aa94fcca6f0a1",
   "metadata": {
    "ExecuteTime": {
     "end_time": "2024-05-27T10:29:41.562011Z",
     "start_time": "2024-05-27T10:29:38.188554Z"
    }
   },
   "outputs": [
    {
     "name": "stdout",
     "output_type": "stream",
     "text": [
      "10 is not a perfect number.\n"
     ]
    }
   ],
   "source": [
    "# Ask the user for a number\n",
    "number = int(input(\"Enter a number to check if it's a perfect number: \"))\n",
    "\n",
    "# Initialize the sum of divisors\n",
    "sum_of_divisors = 0\n",
    "\n",
    "# Loop from 1 to number - 1 to find the divisors of the number\n",
    "for i in range(1, number):\n",
    "    if number % i == 0:\n",
    "        sum_of_divisors += i\n",
    "\n",
    "# Check if the sum of divisors is equal to the number\n",
    "if sum_of_divisors == number:\n",
    "    print(f\"{number} is a perfect number.\")\n",
    "else:\n",
    "    print(f\"{number} is not a perfect number.\")\n"
   ]
  },
  {
   "cell_type": "code",
   "execution_count": null,
   "id": "99fc9e8f7f38b07b",
   "metadata": {
    "ExecuteTime": {
     "end_time": "2024-05-27T10:29:41.565929Z",
     "start_time": "2024-05-27T10:29:41.564098Z"
    }
   },
   "outputs": [],
   "source": []
  }
 ],
 "metadata": {
  "kernelspec": {
   "display_name": "Python 3",
   "language": "python",
   "name": "python3"
  },
  "language_info": {
   "codemirror_mode": {
    "name": "ipython",
    "version": 3
   },
   "file_extension": ".py",
   "mimetype": "text/x-python",
   "name": "python",
   "nbconvert_exporter": "python",
   "pygments_lexer": "ipython3",
   "version": "3.12.3"
  }
 },
 "nbformat": 4,
 "nbformat_minor": 5
}
