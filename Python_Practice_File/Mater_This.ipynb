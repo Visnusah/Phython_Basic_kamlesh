{
 "cells": [
  {
   "cell_type": "markdown",
   "metadata": {},
   "source": [
    "# Print Function\n",
    "- - -\n",
    "- sep, end, flush"
   ]
  },
  {
   "cell_type": "code",
   "execution_count": 7,
   "metadata": {},
   "outputs": [
    {
     "name": "stdout",
     "output_type": "stream",
     "text": [
      "My name is Kamlesh and I am 20 years old.\n",
      "My name is * Kamlesh * and I am * 20 * years old.\n",
      "My name is , Kamlesh , and I am , 20 , years old.\n",
      "Helo world\n",
      "I am  Kamlesh\n",
      "Helo I am  Kamlesh\n"
     ]
    }
   ],
   "source": [
    "age = 20\n",
    "name = \"Kamlesh\"\n",
    "\n",
    "print(\"My name is\", name, \"and I am\", age, \"years old.\")\n",
    "\n",
    "# sep parameter\n",
    "print(\"My name is\", name, \"and I am\", age, \"years old.\", sep=\" * \")\n",
    "print(\"My name is\", name, \"and I am\", age, \"years old.\", sep=\" , \")\n",
    "\n",
    "\n",
    "\n",
    "print(\"Helo world\")\n",
    "print(\"I am \", name)\n",
    "# end parameter\n",
    "print(\"Helo\", end=\" \") # end used to print the output in the same line\n",
    "print(\"I am \", name)\n",
    "\n",
    "\n",
    "\n"
   ]
  },
  {
   "cell_type": "code",
   "execution_count": null,
   "metadata": {},
   "outputs": [],
   "source": []
  }
 ],
 "metadata": {
  "kernelspec": {
   "display_name": "Python 3",
   "language": "python",
   "name": "python3"
  },
  "language_info": {
   "codemirror_mode": {
    "name": "ipython",
    "version": 3
   },
   "file_extension": ".py",
   "mimetype": "text/x-python",
   "name": "python",
   "nbconvert_exporter": "python",
   "pygments_lexer": "ipython3",
   "version": "3.12.3"
  }
 },
 "nbformat": 4,
 "nbformat_minor": 2
}
